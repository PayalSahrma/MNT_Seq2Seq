{
  "nbformat": 4,
  "nbformat_minor": 0,
  "metadata": {
    "colab": {
      "provenance": [],
      "collapsed_sections": [
        "dEniteeTHbjH",
        "aZAFPeCr66Wm",
        "5Tgoxk2BcdBy",
        "y_rAhbB7GlIq"
      ],
      "toc_visible": true
    },
    "kernelspec": {
      "display_name": "Python 3",
      "language": "python",
      "name": "python3"
    },
    "language_info": {
      "codemirror_mode": {
        "name": "ipython",
        "version": 3
      },
      "file_extension": ".py",
      "mimetype": "text/x-python",
      "name": "python",
      "nbconvert_exporter": "python",
      "pygments_lexer": "ipython3",
      "version": "3.6.4"
    },
    "accelerator": "GPU",
    "gpuClass": "standard"
  },
  "cells": [
    {
      "cell_type": "markdown",
      "metadata": {
        "id": "6YZol8iJCto-"
      },
      "source": [
        "# **Library and Dataset Import**\n",
        "\n",
        "The examples uses tensorflow2.x for NLP Modelling.\n",
        "\n",
        "The indic-nlp-library is used for tokenization.\n",
        "\n",
        "Dataset used is for English Hindi translation, however can be easily adopted for 10 other major Indian language as available [here](http://lotus.kuee.kyoto-u.ac.jp/WAT/indic-multilingual/) or for any other language pair (adopt as per the tensorflow tutorial references provided below)."
      ]
    },
    {
      "cell_type": "code",
      "metadata": {
        "id": "jO8KYb6yYphB",
        "colab": {
          "base_uri": "https://localhost:8080/"
        },
        "outputId": "7e27db3f-f181-40f5-de99-9610c91fbf3f"
      },
      "source": [
        "import tensorflow as tf\n",
        "from sklearn.model_selection import train_test_split\n",
        "import unicodedata\n",
        "import re\n",
        "import numpy as np\n",
        "import os\n",
        "import io\n",
        "import time\n",
        "!pip3 install indic-nlp-library"
      ],
      "execution_count": 1,
      "outputs": [
        {
          "output_type": "stream",
          "name": "stdout",
          "text": [
            "Collecting indic-nlp-library\n",
            "  Downloading indic_nlp_library-0.92-py3-none-any.whl (40 kB)\n",
            "\u001b[2K     \u001b[90m━━━━━━━━━━━━━━━━━━━━━━━━━━━━━━━━━━━━━━━━\u001b[0m \u001b[32m40.3/40.3 kB\u001b[0m \u001b[31m1.4 MB/s\u001b[0m eta \u001b[36m0:00:00\u001b[0m\n",
            "\u001b[?25hCollecting sphinx-argparse (from indic-nlp-library)\n",
            "  Downloading sphinx_argparse-0.4.0-py3-none-any.whl (12 kB)\n",
            "Collecting sphinx-rtd-theme (from indic-nlp-library)\n",
            "  Downloading sphinx_rtd_theme-2.0.0-py2.py3-none-any.whl (2.8 MB)\n",
            "\u001b[2K     \u001b[90m━━━━━━━━━━━━━━━━━━━━━━━━━━━━━━━━━━━━━━━━\u001b[0m \u001b[32m2.8/2.8 MB\u001b[0m \u001b[31m24.4 MB/s\u001b[0m eta \u001b[36m0:00:00\u001b[0m\n",
            "\u001b[?25hCollecting morfessor (from indic-nlp-library)\n",
            "  Downloading Morfessor-2.0.6-py3-none-any.whl (35 kB)\n",
            "Requirement already satisfied: pandas in /usr/local/lib/python3.10/dist-packages (from indic-nlp-library) (1.5.3)\n",
            "Requirement already satisfied: numpy in /usr/local/lib/python3.10/dist-packages (from indic-nlp-library) (1.25.2)\n",
            "Requirement already satisfied: python-dateutil>=2.8.1 in /usr/local/lib/python3.10/dist-packages (from pandas->indic-nlp-library) (2.8.2)\n",
            "Requirement already satisfied: pytz>=2020.1 in /usr/local/lib/python3.10/dist-packages (from pandas->indic-nlp-library) (2023.4)\n",
            "Requirement already satisfied: sphinx>=1.2.0 in /usr/local/lib/python3.10/dist-packages (from sphinx-argparse->indic-nlp-library) (5.0.2)\n",
            "Requirement already satisfied: docutils<0.21 in /usr/local/lib/python3.10/dist-packages (from sphinx-rtd-theme->indic-nlp-library) (0.18.1)\n",
            "Collecting sphinxcontrib-jquery<5,>=4 (from sphinx-rtd-theme->indic-nlp-library)\n",
            "  Downloading sphinxcontrib_jquery-4.1-py2.py3-none-any.whl (121 kB)\n",
            "\u001b[2K     \u001b[90m━━━━━━━━━━━━━━━━━━━━━━━━━━━━━━━━━━━━━━━━\u001b[0m \u001b[32m121.1/121.1 kB\u001b[0m \u001b[31m13.4 MB/s\u001b[0m eta \u001b[36m0:00:00\u001b[0m\n",
            "\u001b[?25hRequirement already satisfied: six>=1.5 in /usr/local/lib/python3.10/dist-packages (from python-dateutil>=2.8.1->pandas->indic-nlp-library) (1.16.0)\n",
            "Requirement already satisfied: sphinxcontrib-applehelp in /usr/local/lib/python3.10/dist-packages (from sphinx>=1.2.0->sphinx-argparse->indic-nlp-library) (1.0.8)\n",
            "Requirement already satisfied: sphinxcontrib-devhelp in /usr/local/lib/python3.10/dist-packages (from sphinx>=1.2.0->sphinx-argparse->indic-nlp-library) (1.0.6)\n",
            "Requirement already satisfied: sphinxcontrib-jsmath in /usr/local/lib/python3.10/dist-packages (from sphinx>=1.2.0->sphinx-argparse->indic-nlp-library) (1.0.1)\n",
            "Requirement already satisfied: sphinxcontrib-htmlhelp>=2.0.0 in /usr/local/lib/python3.10/dist-packages (from sphinx>=1.2.0->sphinx-argparse->indic-nlp-library) (2.0.5)\n",
            "Requirement already satisfied: sphinxcontrib-serializinghtml>=1.1.5 in /usr/local/lib/python3.10/dist-packages (from sphinx>=1.2.0->sphinx-argparse->indic-nlp-library) (1.1.10)\n",
            "Requirement already satisfied: sphinxcontrib-qthelp in /usr/local/lib/python3.10/dist-packages (from sphinx>=1.2.0->sphinx-argparse->indic-nlp-library) (1.0.7)\n",
            "Requirement already satisfied: Jinja2>=2.3 in /usr/local/lib/python3.10/dist-packages (from sphinx>=1.2.0->sphinx-argparse->indic-nlp-library) (3.1.3)\n",
            "Requirement already satisfied: Pygments>=2.0 in /usr/local/lib/python3.10/dist-packages (from sphinx>=1.2.0->sphinx-argparse->indic-nlp-library) (2.16.1)\n",
            "Requirement already satisfied: snowballstemmer>=1.1 in /usr/local/lib/python3.10/dist-packages (from sphinx>=1.2.0->sphinx-argparse->indic-nlp-library) (2.2.0)\n",
            "Requirement already satisfied: babel>=1.3 in /usr/local/lib/python3.10/dist-packages (from sphinx>=1.2.0->sphinx-argparse->indic-nlp-library) (2.14.0)\n",
            "Requirement already satisfied: alabaster<0.8,>=0.7 in /usr/local/lib/python3.10/dist-packages (from sphinx>=1.2.0->sphinx-argparse->indic-nlp-library) (0.7.16)\n",
            "Requirement already satisfied: imagesize in /usr/local/lib/python3.10/dist-packages (from sphinx>=1.2.0->sphinx-argparse->indic-nlp-library) (1.4.1)\n",
            "Requirement already satisfied: requests>=2.5.0 in /usr/local/lib/python3.10/dist-packages (from sphinx>=1.2.0->sphinx-argparse->indic-nlp-library) (2.31.0)\n",
            "Requirement already satisfied: packaging in /usr/local/lib/python3.10/dist-packages (from sphinx>=1.2.0->sphinx-argparse->indic-nlp-library) (23.2)\n",
            "Requirement already satisfied: MarkupSafe>=2.0 in /usr/local/lib/python3.10/dist-packages (from Jinja2>=2.3->sphinx>=1.2.0->sphinx-argparse->indic-nlp-library) (2.1.5)\n",
            "Requirement already satisfied: charset-normalizer<4,>=2 in /usr/local/lib/python3.10/dist-packages (from requests>=2.5.0->sphinx>=1.2.0->sphinx-argparse->indic-nlp-library) (3.3.2)\n",
            "Requirement already satisfied: idna<4,>=2.5 in /usr/local/lib/python3.10/dist-packages (from requests>=2.5.0->sphinx>=1.2.0->sphinx-argparse->indic-nlp-library) (3.6)\n",
            "Requirement already satisfied: urllib3<3,>=1.21.1 in /usr/local/lib/python3.10/dist-packages (from requests>=2.5.0->sphinx>=1.2.0->sphinx-argparse->indic-nlp-library) (2.0.7)\n",
            "Requirement already satisfied: certifi>=2017.4.17 in /usr/local/lib/python3.10/dist-packages (from requests>=2.5.0->sphinx>=1.2.0->sphinx-argparse->indic-nlp-library) (2024.2.2)\n",
            "Installing collected packages: morfessor, sphinxcontrib-jquery, sphinx-argparse, sphinx-rtd-theme, indic-nlp-library\n",
            "Successfully installed indic-nlp-library-0.92 morfessor-2.0.6 sphinx-argparse-0.4.0 sphinx-rtd-theme-2.0.0 sphinxcontrib-jquery-4.1\n"
          ]
        }
      ]
    },
    {
      "cell_type": "code",
      "metadata": {
        "id": "qouiinSUbKUd",
        "colab": {
          "base_uri": "https://localhost:8080/"
        },
        "outputId": "68916c6b-054e-4397-8b99-5766cf97d37b"
      },
      "source": [
        "!wget \"http://lotus.kuee.kyoto-u.ac.jp/WAT/indic-multilingual/indic_languages_corpus.tar.gz\""
      ],
      "execution_count": 2,
      "outputs": [
        {
          "output_type": "stream",
          "name": "stdout",
          "text": [
            "--2024-02-28 03:54:40--  http://lotus.kuee.kyoto-u.ac.jp/WAT/indic-multilingual/indic_languages_corpus.tar.gz\n",
            "Resolving lotus.kuee.kyoto-u.ac.jp (lotus.kuee.kyoto-u.ac.jp)... 130.54.208.131\n",
            "Connecting to lotus.kuee.kyoto-u.ac.jp (lotus.kuee.kyoto-u.ac.jp)|130.54.208.131|:80... connected.\n",
            "HTTP request sent, awaiting response... 200 OK\n",
            "Length: 132762852 (127M) [application/x-gzip]\n",
            "Saving to: ‘indic_languages_corpus.tar.gz’\n",
            "\n",
            "indic_languages_cor 100%[===================>] 126.61M  6.33MB/s    in 15s     \n",
            "\n",
            "2024-02-28 03:54:55 (8.71 MB/s) - ‘indic_languages_corpus.tar.gz’ saved [132762852/132762852]\n",
            "\n"
          ]
        }
      ]
    },
    {
      "cell_type": "code",
      "metadata": {
        "colab": {
          "base_uri": "https://localhost:8080/"
        },
        "id": "d4AxU0WlbZSx",
        "outputId": "630632c1-a0a8-4cbe-8cde-02bf39bb0e8e"
      },
      "source": [
        "import tarfile\n",
        "with tarfile.open('indic_languages_corpus.tar.gz', 'r:gz') as tar:\n",
        "    tar.extractall()\n",
        "print(\"done!\")"
      ],
      "execution_count": 3,
      "outputs": [
        {
          "output_type": "stream",
          "name": "stdout",
          "text": [
            "done!\n"
          ]
        }
      ]
    },
    {
      "cell_type": "code",
      "metadata": {
        "id": "So4-SXJYbtMt"
      },
      "source": [
        "#We copy the Hindi to English files for working in this example (dev.en, dev.hi, test.en, test.hi and train.en, train.hi)\n",
        "%cp indic_languages_corpus/bilingual/hi-en/* .\n",
        "#Clean up to avoid storing these files in the session\n",
        "%rm -r indic_languages_corpus indic_languages_corpus.tar.gz"
      ],
      "execution_count": 4,
      "outputs": []
    },
    {
      "cell_type": "code",
      "metadata": {
        "id": "0h_y0wbzcxSs",
        "colab": {
          "base_uri": "https://localhost:8080/"
        },
        "outputId": "be1f6c92-a97d-4a14-9a06-348de4b356a7"
      },
      "source": [
        "# understanding how the training data looks like\n",
        "f = open('train.hi')\n",
        "w1 = f.readlines()\n",
        "print(len(w1))\n",
        "print(w1[0:5])\n",
        "g = open('train.en')\n",
        "w2 = g.readlines()\n",
        "print(len(w2))\n",
        "print(w2[0:5])"
      ],
      "execution_count": 5,
      "outputs": [
        {
          "output_type": "stream",
          "name": "stdout",
          "text": [
            "84557\n",
            "['और उनके Sigil क्या है?\\n', 'मैं मरना नहीं चाहता.\\n', 'यह मुझे लगता है कि एक ही देश है.\\n', 'फिर ये नन्हें बच्चों की तरह रोएँगे।\\n', 'नहीं, मुझे पावर की जरुरत है !\\n']\n",
            "84557\n",
            "['And what is their Sigil?\\n', 'I do not want to die.\\n', \"It's the same country I think.\\n\", \"Then they'll be crying like babies.\\n\", '- No, I need power up!\\n']\n"
          ]
        }
      ]
    },
    {
      "cell_type": "markdown",
      "metadata": {
        "id": "sL_IvHeamlhc"
      },
      "source": [
        "# **Data Preperation**\n",
        "\n",
        "Once we have loaded the dataset, we preprocess the data as follows:\n",
        "\n",
        "Add a start and end token to each sentence.\n",
        "\n",
        "Clean the sentences by removing special characters.\n",
        "\n",
        "Create a word index and reverse word index (dictionaries mapping from word → id and id → word).\n",
        "\n",
        "Pad each sentence to a maximum length."
      ]
    },
    {
      "cell_type": "code",
      "metadata": {
        "id": "WLiTegnlgyvx"
      },
      "source": [
        "# Restrict the total number of sentences to 70000\n",
        "NUM_SENTENCES = 70000"
      ],
      "execution_count": 6,
      "outputs": []
    },
    {
      "cell_type": "code",
      "metadata": {
        "colab": {
          "base_uri": "https://localhost:8080/"
        },
        "id": "gmsVNqzYdjxo",
        "outputId": "e7e36e60-86da-4f49-bb7b-ee934afddb85"
      },
      "source": [
        "# strip the input and output of extra unnecessary characters\n",
        "# store all the cleaned input and output sentences into input_sentences[] and output_sentences[]\n",
        "# tokenize the Hindi (target) sentences using the indicNLP libary class and add <sos> (start-of-sentence) and <eos> (end-of-sentence)\n",
        "\n",
        "input_sentences = []\n",
        "output_sentences = []\n",
        "\n",
        "count = 0\n",
        "for line in open(r'train.en', encoding=\"utf-8\"):\n",
        "    count += 1\n",
        "\n",
        "    if count > NUM_SENTENCES:\n",
        "        break\n",
        "\n",
        "    input_sentence = line.rstrip().strip(\"\\n\").strip('-') #we strip the sentence of '\\n' and '-'\n",
        "    input_sentences.append(input_sentence) #store all input sentences in the input sentences list\n",
        "\n",
        "count = 0\n",
        "\n",
        "for line in open(r'train.hi'):\n",
        "    count += 1\n",
        "\n",
        "    if count > NUM_SENTENCES:\n",
        "        break\n",
        "    output_sentence =  line.rstrip().strip(\"\\n\").strip('-')\n",
        "    from indicnlp.tokenize import indic_tokenize\n",
        "    line = indic_tokenize.trivial_tokenize(output_sentence) #we tokenize the hindi sentences\n",
        "\n",
        "    output_sentences.append(['<sos>'] + line + ['<eos>']) #append the start and end tags to the tokenised sentences\n",
        "                                                          #each tokenied sentence is stored as a list in output sentences\n",
        "print(type(input_sentences[10]))\n",
        "print(type(output_sentences[10]))"
      ],
      "execution_count": 7,
      "outputs": [
        {
          "output_type": "stream",
          "name": "stdout",
          "text": [
            "<class 'str'>\n",
            "<class 'list'>\n"
          ]
        }
      ]
    },
    {
      "cell_type": "code",
      "metadata": {
        "colab": {
          "base_uri": "https://localhost:8080/"
        },
        "id": "k2kB9RH2fBE0",
        "outputId": "a992104b-e2fe-4875-bc55-0e8db552cbab"
      },
      "source": [
        "print(\"num samples input:\", len(input_sentences))\n",
        "print(\"num samples output:\", len(output_sentences))"
      ],
      "execution_count": 8,
      "outputs": [
        {
          "output_type": "stream",
          "name": "stdout",
          "text": [
            "num samples input: 70000\n",
            "num samples output: 70000\n"
          ]
        }
      ]
    },
    {
      "cell_type": "code",
      "metadata": {
        "colab": {
          "base_uri": "https://localhost:8080/"
        },
        "id": "DkMgkiSnhIQE",
        "outputId": "bc5f6d9f-e784-4ecf-a116-245e16716dd5"
      },
      "source": [
        "print(input_sentences[-1])\n",
        "print(output_sentences[-1])"
      ],
      "execution_count": 9,
      "outputs": [
        {
          "output_type": "stream",
          "name": "stdout",
          "text": [
            "Her face.\n",
            "['<sos>', 'उसका', 'चेहरा', '.', '<eos>']\n"
          ]
        }
      ]
    },
    {
      "cell_type": "code",
      "metadata": {
        "id": "z_PsNxfbSvle"
      },
      "source": [
        "# Converts the unicode file to ascii\n",
        "# Since the model is dealing with multilingual text so it will be important to standardize the input text.\n",
        "# Unicode normalization splits accented characters and replace compatibility characters with their ASCII equivalents.\n",
        "# https://bit.ly/2TnLffX\n",
        "def unicode_to_ascii(s):\n",
        "  return ''.join(c for c in unicodedata.normalize('NFD', s)\n",
        "      if unicodedata.category(c) != 'Mn')\n",
        "\n",
        "\n",
        "def preprocess_sentence(w):\n",
        "  w = unicode_to_ascii(w.lower().strip())\n",
        "\n",
        "  # creating a space between a word and the punctuation following it\n",
        "  # eg: \"he is a boy.\" => \"he is a boy .\"\n",
        "\n",
        "  w = re.sub(r\"([?.!,¿])\", r\" \\1 \", w)\n",
        "  w = re.sub(r'[\" \"]+', \" \", w)\n",
        "\n",
        "  # replacing everything with space except (a-z, A-Z, \".\", \"?\", \"!\", \",\")\n",
        "  w = re.sub(r\"[^a-zA-Z?.!,¿]+\", \" \", w)\n",
        "\n",
        "  w = w.strip()\n",
        "\n",
        "  # adding a start and an end token to the sentence\n",
        "  # so that the model know when to start and stop predicting.\n",
        "  w = '<sos> ' + w + ' <eos>'\n",
        "  return w"
      ],
      "execution_count": 10,
      "outputs": []
    },
    {
      "cell_type": "code",
      "metadata": {
        "colab": {
          "base_uri": "https://localhost:8080/"
        },
        "id": "3NTM7NQ_R8fT",
        "outputId": "26b4525f-9614-425b-f440-6691aab23832"
      },
      "source": [
        "for i in range(len(input_sentences)):\n",
        "   input_sentences[i] = preprocess_sentence(input_sentences[i])\n",
        "\n",
        "print(input_sentences[8])\n",
        "print(output_sentences[8])"
      ],
      "execution_count": 11,
      "outputs": [
        {
          "output_type": "stream",
          "name": "stdout",
          "text": [
            "<sos> i told her we rest on sundays . <eos>\n",
            "['<sos>', 'मैं', 'रविवार', 'को', 'उसे', 'हम', 'बाकी', 'बताया', '.', '<eos>']\n"
          ]
        }
      ]
    },
    {
      "cell_type": "code",
      "metadata": {
        "id": "OM3aEpCUhxh7"
      },
      "source": [
        "# function to tokenize, fit the words into numeric sequences and pad them with zeroes up to the size of the largest sentence of that vocabulary\n",
        "# takes as input the input / output vocabulary and the padding type ('pre' / 'post'-- default: post)\n",
        "\n",
        "# inp_lang and targ_lang is of type tokenizer.fit_on_texts;\n",
        "# fit_on_texts of Tokenizer class updates internal vocabulary based on a list of texts.\n",
        "# This method creates the vocabulary index based on word frequency.\n",
        "# Lower integer means more frequent word (often the first few are stop words because they appear a lot).\n",
        "\n",
        "def tokenize(lang, pad):\n",
        "  lang_tokenizer = tf.keras.preprocessing.text.Tokenizer(\n",
        "      filters='')\n",
        "\n",
        "  lang_tokenizer.fit_on_texts(lang)\n",
        "\n",
        "  tensor = lang_tokenizer.texts_to_sequences(lang)\n",
        "\n",
        "  tensor = tf.keras.preprocessing.sequence.pad_sequences(tensor,\n",
        "                                                         padding='post')\n",
        "  return tensor, lang_tokenizer"
      ],
      "execution_count": 12,
      "outputs": []
    },
    {
      "cell_type": "code",
      "metadata": {
        "id": "cgsojarlh81H"
      },
      "source": [
        "# function to call the tokenize function to perform tokenizing and padding\n",
        "\n",
        "def load_dataset(inp_lang, targ_lang):\n",
        "  # creating cleaned input, output pairs\n",
        "  input_tensor, inp_lang_tokenizer = tokenize(inp_lang, 'post')\n",
        "  target_tensor, targ_lang_tokenizer = tokenize(targ_lang, 'post')\n",
        "\n",
        "  return input_tensor, target_tensor, inp_lang_tokenizer, targ_lang_tokenizer"
      ],
      "execution_count": 13,
      "outputs": []
    },
    {
      "cell_type": "code",
      "metadata": {
        "colab": {
          "base_uri": "https://localhost:8080/"
        },
        "id": "0FxxPJYFi3cX",
        "outputId": "672cf860-74ab-4b08-a63b-7f92737827a9"
      },
      "source": [
        "input_tensor, target_tensor, inp_lang, targ_lang = load_dataset(input_sentences, output_sentences)\n",
        "\n",
        "# Calculate max_length of the target tensors\n",
        "# For our project, the max_length_targ and max_length_inp are 69 and 72 respectively.\n",
        "\n",
        "max_length_targ, max_length_inp = target_tensor.shape[1], input_tensor.shape[1]\n",
        "print(max_length_targ)\n",
        "print(max_length_inp)"
      ],
      "execution_count": 14,
      "outputs": [
        {
          "output_type": "stream",
          "name": "stdout",
          "text": [
            "69\n",
            "72\n"
          ]
        }
      ]
    },
    {
      "cell_type": "code",
      "metadata": {
        "colab": {
          "base_uri": "https://localhost:8080/"
        },
        "id": "blHpIh2WTR7M",
        "outputId": "497df427-cade-464e-d3dc-eb57ad5d843e"
      },
      "source": [
        "# checking if the input sequences have been obtained and padded properly\n",
        "print(target_tensor[9])\n",
        "print(input_tensor[9])"
      ],
      "execution_count": 15,
      "outputs": [
        {
          "output_type": "stream",
          "name": "stdout",
          "text": [
            "[  1  47 203  18 203  26  39 553  79  29   5 270   8   2   0   0   0   0\n",
            "   0   0   0   0   0   0   0   0   0   0   0   0   0   0   0   0   0   0\n",
            "   0   0   0   0   0   0   0   0   0   0   0   0   0   0   0   0   0   0\n",
            "   0   0   0   0   0   0   0   0   0   0   0   0   0   0   0]\n",
            "[   1    5  106   62   63  462 6235   21    4   59    8    2    0    0\n",
            "    0    0    0    0    0    0    0    0    0    0    0    0    0    0\n",
            "    0    0    0    0    0    0    0    0    0    0    0    0    0    0\n",
            "    0    0    0    0    0    0    0    0    0    0    0    0    0    0\n",
            "    0    0    0    0    0    0    0    0    0    0    0    0    0    0\n",
            "    0    0]\n"
          ]
        }
      ]
    },
    {
      "cell_type": "code",
      "metadata": {
        "colab": {
          "base_uri": "https://localhost:8080/"
        },
        "id": "ao4xP-xckEhE",
        "outputId": "2deace7d-ddba-4057-e17a-bf2ae1005521"
      },
      "source": [
        "# Creating training and validation sets using an 80-20 split\n",
        "input_tensor_train, input_tensor_val, target_tensor_train, target_tensor_val = train_test_split(input_tensor, target_tensor, test_size=0.2,random_state=7)\n",
        "\n",
        "# Show length\n",
        "print(len(input_tensor_train), len(target_tensor_train), len(input_tensor_val), len(target_tensor_val))"
      ],
      "execution_count": 16,
      "outputs": [
        {
          "output_type": "stream",
          "name": "stdout",
          "text": [
            "56000 56000 14000 14000\n"
          ]
        }
      ]
    },
    {
      "cell_type": "code",
      "metadata": {
        "colab": {
          "base_uri": "https://localhost:8080/"
        },
        "id": "E2gSXFB7DNI9",
        "outputId": "15bae70d-eb1a-4286-9f9e-54d4f8031323"
      },
      "source": [
        "# checking if the input sequences have been obtained and padded properly\n",
        "print(input_tensor_val[9])\n",
        "print(target_tensor_val[9])"
      ],
      "execution_count": 17,
      "outputs": [
        {
          "output_type": "stream",
          "name": "stdout",
          "text": [
            "[    1    60   451    14    60 10406    99   207   135     8     2     0\n",
            "     0     0     0     0     0     0     0     0     0     0     0     0\n",
            "     0     0     0     0     0     0     0     0     0     0     0     0\n",
            "     0     0     0     0     0     0     0     0     0     0     0     0\n",
            "     0     0     0     0     0     0     0     0     0     0     0     0\n",
            "     0     0     0     0     0     0     0     0     0     0     0     0]\n",
            "[   1   30  161  147  484    4    5   19 4339   31  747  692    4    8\n",
            "    2    0    0    0    0    0    0    0    0    0    0    0    0    0\n",
            "    0    0    0    0    0    0    0    0    0    0    0    0    0    0\n",
            "    0    0    0    0    0    0    0    0    0    0    0    0    0    0\n",
            "    0    0    0    0    0    0    0    0    0    0    0    0    0]\n"
          ]
        }
      ]
    },
    {
      "cell_type": "code",
      "metadata": {
        "id": "yy0Z2a0bl9QB"
      },
      "source": [
        "# a function to test if the word to index / index to word mappings have been obtained correctly.\n",
        "# representative output for two sample english and hindi sentences given in the code block below\n",
        "\n",
        "def convert(lang, tensor):\n",
        "  for t in tensor:\n",
        "    if t!=0:\n",
        "      print (\"%d ----> %s\" % (t, lang.index_word[t]))\n",
        "      print (\"%s ----> %d\" % (lang.index_word[t], lang.word_index[lang.index_word[t]]))"
      ],
      "execution_count": 18,
      "outputs": []
    },
    {
      "cell_type": "code",
      "metadata": {
        "colab": {
          "base_uri": "https://localhost:8080/"
        },
        "id": "FmJypgD3l3P6",
        "outputId": "934a9e9d-01e4-4a21-e2ed-b63b6f1feac1"
      },
      "source": [
        "print (\"Input Language; index to word mapping\")\n",
        "convert(inp_lang, input_tensor_train[0])\n",
        "print ()\n",
        "print (\"Target Language; index to word mapping\")\n",
        "convert(targ_lang, target_tensor_train[0])"
      ],
      "execution_count": 19,
      "outputs": [
        {
          "output_type": "stream",
          "name": "stdout",
          "text": [
            "Input Language; index to word mapping\n",
            "1 ----> <sos>\n",
            "<sos> ----> 1\n",
            "74 ----> did\n",
            "did ----> 74\n",
            "5 ----> you\n",
            "you ----> 5\n",
            "2270 ----> threaten\n",
            "threaten ----> 2270\n",
            "21 ----> me\n",
            "me ----> 21\n",
            "8 ----> ?\n",
            "? ----> 8\n",
            "2 ----> <eos>\n",
            "<eos> ----> 2\n",
            "\n",
            "Target Language; index to word mapping\n",
            "1 ----> <sos>\n",
            "<sos> ----> 1\n",
            "15 ----> आप\n",
            "आप ----> 15\n",
            "26 ----> मुझे\n",
            "मुझे ----> 26\n",
            "1426 ----> धमकी\n",
            "धमकी ----> 1426\n",
            "45 ----> किया\n",
            "किया ----> 45\n",
            "29 ----> था\n",
            "था ----> 29\n",
            "8 ----> ?\n",
            "? ----> 8\n",
            "2 ----> <eos>\n",
            "<eos> ----> 2\n"
          ]
        }
      ]
    },
    {
      "cell_type": "code",
      "metadata": {
        "colab": {
          "base_uri": "https://localhost:8080/"
        },
        "id": "TCSWpdefmNaS",
        "outputId": "47bb87aa-c98d-4989-a82f-3d877310ef22"
      },
      "source": [
        "# BUFFER_SIZE stores the number of training points\n",
        "BUFFER_SIZE = len(input_tensor_train)\n",
        "\n",
        "# BATCH_SIZE is set to 64. Training and gradient descent happens in batches of 64\n",
        "BATCH_SIZE = 64\n",
        "\n",
        "# the number of batches in one epoch (also, the number of steps during training, when we go batch by batch)\n",
        "steps_per_epoch = BUFFER_SIZE//BATCH_SIZE\n",
        "\n",
        "# the length of the embedded vector\n",
        "embedding_dim = 256\n",
        "\n",
        "# no of GRUs\n",
        "units = 1024\n",
        "\n",
        "# getting the size of the input and output vocabularies.\n",
        "vocab_inp_size = len(inp_lang.word_index)+1\n",
        "vocab_tar_size = len(targ_lang.word_index)+1\n",
        "\n",
        "# now, we shuffle the dataset and split it into batches of 64\n",
        "dataset = tf.data.Dataset.from_tensor_slices((input_tensor_train, target_tensor_train)).shuffle(BUFFER_SIZE)\n",
        "dataset = dataset.batch(BATCH_SIZE, drop_remainder=True) # the remainder after splitting by 64 are dropped\n",
        "\n",
        "print(BUFFER_SIZE)\n",
        "print(BUFFER_SIZE//64)\n",
        "print(steps_per_epoch)\n",
        "print(max_length_targ)\n",
        "print(max_length_inp)"
      ],
      "execution_count": 20,
      "outputs": [
        {
          "output_type": "stream",
          "name": "stdout",
          "text": [
            "56000\n",
            "875\n",
            "875\n",
            "69\n",
            "72\n"
          ]
        }
      ]
    },
    {
      "cell_type": "code",
      "metadata": {
        "colab": {
          "base_uri": "https://localhost:8080/"
        },
        "id": "L2_KlgAMm-ZK",
        "outputId": "3836e42b-0207-47d2-aa16-5921539f4377"
      },
      "source": [
        "# to understand the shape of an input batch\n",
        "example_input_batch, example_target_batch = next(iter(dataset))\n",
        "example_input_batch.shape, example_target_batch.shape"
      ],
      "execution_count": 21,
      "outputs": [
        {
          "output_type": "execute_result",
          "data": {
            "text/plain": [
              "(TensorShape([64, 72]), TensorShape([64, 69]))"
            ]
          },
          "metadata": {},
          "execution_count": 21
        }
      ]
    },
    {
      "cell_type": "markdown",
      "metadata": {
        "id": "4IJ35HtdpH9P"
      },
      "source": [
        "# **Encoder-Decoder model**\n",
        "\n",
        "The encoder model consists of an embedding layer, a GRU layer with 1024 units.\n",
        "\n",
        "The decoder model consists of a embedding layer, a GRU layer and a dense layer.\n",
        "\n",
        "---\n",
        "![picture](https://drive.google.com/uc?id=1BjzsnC-lcn4GapfGv1hUDDyb68ySS4cW)\n",
        "\n",
        "\n",
        "\n",
        "\n",
        "\n",
        "\n"
      ]
    },
    {
      "cell_type": "code",
      "metadata": {
        "id": "-yyyfnUqqCSJ"
      },
      "source": [
        "class Encoder(tf.keras.Model):\n",
        "  def __init__(self, vocab_size, embedding_dim, enc_units, batch_sz):\n",
        "    super(Encoder, self).__init__()\n",
        "    self.batch_sz = batch_sz # set batch size\n",
        "    self.enc_units = enc_units # set the number of GRU units\n",
        "    self.embedding = tf.keras.layers.Embedding(vocab_size, embedding_dim) # set the embedding layer using the input's vocabulary size and the embedding dimension (which is set to 256)\n",
        "    self.gru = tf.keras.layers.GRU(self.enc_units,\n",
        "                                   return_sequences=True,\n",
        "                                   return_state=True,\n",
        "                                   recurrent_initializer='glorot_uniform') # define the GRU layer\n",
        "\n",
        "  def call(self, x, hidden): # this function is invoked when the function encoder is called with an input and an initialised hidden layer\n",
        "    x = self.embedding(x)\n",
        "    output, state = self.gru(x, initial_state = hidden) # pass input x into the GRU layer\n",
        "    return output, state # function returns the encoder output and the hidden state\n",
        "\n",
        "\n",
        "  def initialize_hidden_state(self): #intialise hidden layer to all zeroes (for determining the shape)\n",
        "    return tf.zeros((self.batch_sz, self.enc_units))"
      ],
      "execution_count": 22,
      "outputs": []
    },
    {
      "cell_type": "code",
      "metadata": {
        "colab": {
          "base_uri": "https://localhost:8080/"
        },
        "id": "Bo28Qbfa0rIX",
        "outputId": "76598591-a3eb-4935-bfc0-56591bececf1"
      },
      "source": [
        "encoder = Encoder(vocab_inp_size, embedding_dim, units, BATCH_SIZE) # create an Encoder class object\n",
        "\n",
        "# sample input to get a sense of the shapes.\n",
        "sample_hidden = encoder.initialize_hidden_state()\n",
        "sample_output, sample_hidden = encoder(example_input_batch, sample_hidden)\n",
        "print ('Encoder output shape: (batch size, sequence length, units) {}'.format(sample_output.shape))\n",
        "print ('Encoder Hidden state shape: (batch size, units) {}'.format(sample_hidden.shape))"
      ],
      "execution_count": 23,
      "outputs": [
        {
          "output_type": "stream",
          "name": "stdout",
          "text": [
            "Encoder output shape: (batch size, sequence length, units) (64, 72, 1024)\n",
            "Encoder Hidden state shape: (batch size, units) (64, 1024)\n"
          ]
        }
      ]
    },
    {
      "cell_type": "code",
      "metadata": {
        "id": "UEMbTmGW9VT_"
      },
      "source": [
        "class Decoder(tf.keras.Model):\n",
        "  def __init__(self, vocab_size, embedding_dim, dec_units, batch_sz):\n",
        "    super(Decoder, self).__init__()\n",
        "    self.batch_sz = batch_sz # batch_size which is defined as 64\n",
        "    self.dec_units = dec_units # the number of decoder GRU units\n",
        "    self.embedding = tf.keras.layers.Embedding(vocab_size, embedding_dim) # defining an embedding layer for the target language output.\n",
        "    self.gru = tf.keras.layers.GRU(self.dec_units,\n",
        "                                   return_sequences=True,\n",
        "                                   return_state=True,\n",
        "                                   recurrent_initializer='glorot_uniform') # GRU layer\n",
        "    self.fc = tf.keras.layers.Dense(vocab_size)\n",
        "\n",
        "\n",
        "  def call(self, x, hidden):\n",
        "\n",
        "    # x shape after passing through embedding == (batch_size, 1, embedding_dim)\n",
        "    x = self.embedding(x) # creating an embedding layer for the target output\n",
        "\n",
        "    # passing the initial state to the GRU as the hidden state\n",
        "    output, state = self.gru(x, initial_state=hidden)\n",
        "\n",
        "    # output shape == (batch_size * 1, hidden_size)\n",
        "    output = tf.reshape(output, (-1, output.shape[2]))\n",
        "\n",
        "    # output shape == (batch_size, vocab)\n",
        "    x = self.fc(output) # pass the output through the dense layer\n",
        "\n",
        "    return x, state # return decoder output and decoder state"
      ],
      "execution_count": 25,
      "outputs": []
    },
    {
      "cell_type": "code",
      "metadata": {
        "colab": {
          "base_uri": "https://localhost:8080/"
        },
        "id": "R1wvr3Ie9X81",
        "outputId": "5f2762b8-4b45-4f87-a06b-cdf198db87d8"
      },
      "source": [
        "decoder = Decoder(vocab_tar_size, embedding_dim, units, BATCH_SIZE)\n",
        "\n",
        "sample_decoder_output, _ = decoder(tf.random.uniform((BATCH_SIZE, 1)),\n",
        "                                      sample_hidden)\n",
        "\n",
        "print ('Decoder output shape: (batch_size, vocab size) {}'.format(sample_decoder_output.shape))"
      ],
      "execution_count": 26,
      "outputs": [
        {
          "output_type": "stream",
          "name": "stdout",
          "text": [
            "Decoder output shape: (batch_size, vocab size) (64, 22224)\n"
          ]
        }
      ]
    },
    {
      "cell_type": "markdown",
      "metadata": {
        "id": "dEniteeTHbjH"
      },
      "source": [
        "# **Training the model**\n",
        "\n",
        "The model is trained on a GPU machine with fixed number of epochs.\n",
        "\n",
        "A custom training loop (instead of Model.Fit etc.) is used for which further reference is available from Tensorflow [here](https://www.tensorflow.org/guide/keras/writing_a_training_loop_from_scratch)\n",
        "\n",
        "The model can be extended with the use of the validation data for early stopping and further fine tuning.\n",
        "\n",
        "Checkpoints are stored for easy retrieval of the model and resue without training"
      ]
    },
    {
      "cell_type": "code",
      "metadata": {
        "id": "erDnU7mw9acE"
      },
      "source": [
        "optimizer = tf.keras.optimizers.Adam()\n",
        "loss_object = tf.keras.losses.SparseCategoricalCrossentropy(\n",
        "    from_logits=True, reduction='none') #Loss function is categorical crossentropy\n",
        "\n",
        "def loss_function(real, pred):\n",
        "  mask = tf.math.logical_not(tf.math.equal(real, 0))\n",
        "  loss_ = loss_object(real, pred)\n",
        "\n",
        "  mask = tf.cast(mask, dtype=loss_.dtype)\n",
        "  loss_ *= mask\n",
        "\n",
        "  return tf.reduce_mean(loss_)"
      ],
      "execution_count": 41,
      "outputs": []
    },
    {
      "cell_type": "code",
      "metadata": {
        "id": "2ryWGXER9goc"
      },
      "source": [
        "checkpoint_dir = './tutorial_checkpoint_nmt'\n",
        "checkpoint_prefix = os.path.join(checkpoint_dir, \"ckpt\")\n",
        "checkpoint = tf.train.Checkpoint(optimizer=optimizer,\n",
        "                                 encoder=encoder,\n",
        "                                 decoder=decoder)"
      ],
      "execution_count": 42,
      "outputs": []
    },
    {
      "cell_type": "code",
      "metadata": {
        "id": "OBBj4-9U9r1R"
      },
      "source": [
        "@tf.function\n",
        "def train_step(inp, targ, enc_hidden):\n",
        "  loss = 0\n",
        "\n",
        "  with tf.GradientTape() as tape:\n",
        "    enc_output, enc_hidden = encoder(inp, enc_hidden)\n",
        "\n",
        "    dec_hidden = enc_hidden\n",
        "\n",
        "    dec_input = tf.expand_dims([targ_lang.word_index['<sos>']] * BATCH_SIZE, 1)\n",
        "\n",
        "    # Teacher forcing - feeding the target as the next input\n",
        "    for t in range(1, targ.shape[1]):\n",
        "      # passing enc_output to the decoder\n",
        "      predictions, dec_hidden = decoder(dec_input, dec_hidden)\n",
        "\n",
        "      loss += loss_function(targ[:, t], predictions)\n",
        "\n",
        "      # using teacher forcing\n",
        "      dec_input = tf.expand_dims(targ[:, t], 1)\n",
        "\n",
        "  batch_loss = (loss / int(targ.shape[1]))\n",
        "\n",
        "  variables = encoder.trainable_variables + decoder.trainable_variables\n",
        "\n",
        "  gradients = tape.gradient(loss, variables)\n",
        "\n",
        "  optimizer.apply_gradients(zip(gradients, variables)) # doing gradient descent\n",
        "\n",
        "  return batch_loss"
      ],
      "execution_count": 43,
      "outputs": []
    },
    {
      "cell_type": "code",
      "metadata": {
        "id": "GF7cJDaHeMkn"
      },
      "source": [
        "train = False\n",
        "EPOCHS = 10\n",
        "if train :\n",
        "  for epoch in range(EPOCHS):\n",
        "    start = time.time()\n",
        "\n",
        "    enc_hidden = encoder.initialize_hidden_state()\n",
        "    total_loss = 0\n",
        "\n",
        "    for (batch, (inp, targ)) in enumerate(dataset.take(steps_per_epoch)):\n",
        "      batch_loss = train_step(inp, targ, enc_hidden)\n",
        "      total_loss += batch_loss\n",
        "\n",
        "      if batch % 100 == 0:\n",
        "        print('Epoch {} Batch {} Loss {:.4f}'.format(epoch + 1,\n",
        "                                                    batch,\n",
        "                                                    batch_loss.numpy()))\n",
        "    # saving (checkpoint) the model every 2 epochs\n",
        "    if (epoch + 1) % 2 == 0:\n",
        "      checkpoint.save(file_prefix = checkpoint_prefix)\n",
        "\n",
        "    print('Epoch {} Loss {:.4f}'.format(epoch + 1,\n",
        "                                        total_loss / steps_per_epoch))\n",
        "    print('Time taken for 1 epoch {} sec\\n'.format(time.time() - start))"
      ],
      "execution_count": 44,
      "outputs": []
    },
    {
      "cell_type": "code",
      "metadata": {
        "colab": {
          "base_uri": "https://localhost:8080/"
        },
        "id": "YwgSqCLf_Tht",
        "outputId": "ad11b29b-fd37-45bb-8772-d255eed2431a"
      },
      "source": [
        "# restoring the latest checkpoint in checkpoint_dir\n",
        "checkpoint.restore(tf.train.latest_checkpoint(checkpoint_dir))"
      ],
      "execution_count": 45,
      "outputs": [
        {
          "output_type": "execute_result",
          "data": {
            "text/plain": [
              "<tensorflow.python.checkpoint.checkpoint.InitializationOnlyStatus at 0x7e788888ea40>"
            ]
          },
          "metadata": {},
          "execution_count": 45
        }
      ]
    },
    {
      "cell_type": "markdown",
      "metadata": {
        "id": "aZAFPeCr66Wm"
      },
      "source": [
        "# **Prediction using Greedy Search**\n",
        "\n",
        "Greedy search is used to for Decoding of text."
      ]
    },
    {
      "cell_type": "code",
      "metadata": {
        "id": "IPkwfe6E_Csj"
      },
      "source": [
        "def evaluate(sentence):\n",
        "  sentence = preprocess_sentence(sentence)\n",
        "\n",
        "  inputs = [inp_lang.word_index[i] for i in sentence.split(' ')]\n",
        "  inputs = tf.keras.preprocessing.sequence.pad_sequences([inputs],\n",
        "                                                         maxlen=max_length_inp,\n",
        "                                                         padding='post')\n",
        "  inputs = tf.convert_to_tensor(inputs)\n",
        "\n",
        "  result = ''\n",
        "\n",
        "  hidden = [tf.zeros((1, units))]\n",
        "  enc_out, enc_hidden = encoder(inputs, hidden)\n",
        "\n",
        "  dec_hidden = enc_hidden\n",
        "  dec_input = tf.expand_dims([targ_lang.word_index['<sos>']], 0)\n",
        "\n",
        "  for t in range(max_length_targ):\n",
        "    predictions, dec_hidden = decoder(dec_input,dec_hidden)\n",
        "\n",
        "    # pass the encoder output, decoder hidden state(which is initialised to encoder hidden state for the first time and decoder input to the decoder)\n",
        "    # make a prediction and obtain decoder hidden states\n",
        "\n",
        "    predicted_id = tf.argmax(predictions[0]).numpy()\n",
        "\n",
        "    result += targ_lang.index_word[predicted_id] + ' '\n",
        "\n",
        "    if targ_lang.index_word[predicted_id] == '<eos>':\n",
        "      return result, sentence\n",
        "\n",
        "    # the predicted ID is fed back into the model\n",
        "    dec_input = tf.expand_dims([predicted_id], 0)\n",
        "\n",
        "  return result, sentence"
      ],
      "execution_count": 50,
      "outputs": []
    },
    {
      "cell_type": "code",
      "metadata": {
        "id": "exQRehVR_RR1"
      },
      "source": [
        "def translate(sentence):\n",
        "  result, sentence = evaluate(sentence)\n",
        "\n",
        "  print('Input: %s' % (sentence))\n",
        "  print('Predicted translation: {}'.format(result))\n",
        "\n",
        "  return result"
      ],
      "execution_count": 51,
      "outputs": []
    },
    {
      "cell_type": "code",
      "metadata": {
        "colab": {
          "base_uri": "https://localhost:8080/",
          "height": 144
        },
        "id": "qHcnO2JbFrp7",
        "outputId": "e1b692f0-b42e-449d-8d4a-28c3465e7e8b"
      },
      "source": [
        "translate(\"how are you doing\")"
      ],
      "execution_count": 52,
      "outputs": [
        {
          "output_type": "stream",
          "name": "stdout",
          "text": [
            "Input: <sos> how are you doing <eos>\n",
            "Predicted translation: पतझड़ बोटीयाँ meleager सभीदर्दतक कैंप कठोर ज़बरन munny उन्होनें टायर्सचिल्लाहट हैंगर पपीज़ समझाओ वारदात 9,8,7,6 ताहा रीटा टेलर नाकाबंदी कांड लुइविल श्वास रोओ रखोगे अवरोध आकाशीय नाविकों anchorman उबकाई बांस पंद्रह खंगाला खंगाला उन्मादी उन्मादी व्यावसायिक pilot बदलोगे birds राजस्व पूछती नीला चुस्त लटक लटक मामलों फौज oho प्रीमियर पद्धति रखकर भत्ता ticket क्रॉकरी priorsकीएकलंबीसूचीके धड़कन बेले ज़्यादा सईद अवशोषित रेडियो परेशानी पोर्टा चूहे कोने sebiènija आयोगों गाड़ने बोलिंग \n"
          ]
        },
        {
          "output_type": "execute_result",
          "data": {
            "text/plain": [
              "'पतझड़ बोटीयाँ meleager सभीदर्दतक कैंप कठोर ज़बरन munny उन्होनें टायर्सचिल्लाहट हैंगर पपीज़ समझाओ वारदात 9,8,7,6 ताहा रीटा टेलर नाकाबंदी कांड लुइविल श्वास रोओ रखोगे अवरोध आकाशीय नाविकों anchorman उबकाई बांस पंद्रह खंगाला खंगाला उन्मादी उन्मादी व्यावसायिक pilot बदलोगे birds राजस्व पूछती नीला चुस्त लटक लटक मामलों फौज oho प्रीमियर पद्धति रखकर भत्ता ticket क्रॉकरी priorsकीएकलंबीसूचीके धड़कन बेले ज़्यादा सईद अवशोषित रेडियो परेशानी पोर्टा चूहे कोने sebiènija आयोगों गाड़ने बोलिंग '"
            ],
            "application/vnd.google.colaboratory.intrinsic+json": {
              "type": "string"
            }
          },
          "metadata": {},
          "execution_count": 52
        }
      ]
    },
    {
      "cell_type": "code",
      "metadata": {
        "colab": {
          "base_uri": "https://localhost:8080/",
          "height": 144
        },
        "id": "QOFXsr5EanzX",
        "outputId": "1ca18ea8-e5e0-4d0c-e536-bdf8b7f4fbb9"
      },
      "source": [
        "translate(\"I am hungry. Can you give me something to eat.\")"
      ],
      "execution_count": 53,
      "outputs": [
        {
          "output_type": "stream",
          "name": "stdout",
          "text": [
            "Input: <sos> i am hungry . can you give me something to eat . <eos>\n",
            "Predicted translation: पतझड़ बोटीयाँ meleager सभीदर्दतक कैंप कठोर ज़बरन munny उन्होनें टायर्सचिल्लाहट हैंगर पपीज़ समझाओ वारदात 9,8,7,6 ताहा रीटा टेलर नाकाबंदी कांड लुइविल श्वास रोओ रखोगे अवरोध आकाशीय नाविकों anchorman उबकाई बांस पंद्रह खंगाला खंगाला उन्मादी उन्मादी व्यावसायिक pilot बदलोगे birds राजस्व पूछती नीला चुस्त लटक लटक मामलों फौज oho प्रीमियर पद्धति रखकर भत्ता ticket क्रॉकरी priorsकीएकलंबीसूचीके धड़कन बेले ज़्यादा सईद अवशोषित रेडियो परेशानी पोर्टा चूहे कोने sebiènija आयोगों गाड़ने बोलिंग \n"
          ]
        },
        {
          "output_type": "execute_result",
          "data": {
            "text/plain": [
              "'पतझड़ बोटीयाँ meleager सभीदर्दतक कैंप कठोर ज़बरन munny उन्होनें टायर्सचिल्लाहट हैंगर पपीज़ समझाओ वारदात 9,8,7,6 ताहा रीटा टेलर नाकाबंदी कांड लुइविल श्वास रोओ रखोगे अवरोध आकाशीय नाविकों anchorman उबकाई बांस पंद्रह खंगाला खंगाला उन्मादी उन्मादी व्यावसायिक pilot बदलोगे birds राजस्व पूछती नीला चुस्त लटक लटक मामलों फौज oho प्रीमियर पद्धति रखकर भत्ता ticket क्रॉकरी priorsकीएकलंबीसूचीके धड़कन बेले ज़्यादा सईद अवशोषित रेडियो परेशानी पोर्टा चूहे कोने sebiènija आयोगों गाड़ने बोलिंग '"
            ],
            "application/vnd.google.colaboratory.intrinsic+json": {
              "type": "string"
            }
          },
          "metadata": {},
          "execution_count": 53
        }
      ]
    },
    {
      "cell_type": "markdown",
      "metadata": {
        "id": "5Tgoxk2BcdBy"
      },
      "source": [
        "# **Calculating BLEU score for evaluation**\n",
        "\n",
        "BLEU score (Bilingual Evaluation Understudy) is calculated on the test data for evaluating the quality of translations"
      ]
    },
    {
      "cell_type": "code",
      "metadata": {
        "id": "H4hD3TgDcQ1k"
      },
      "source": [
        "test_input_sentences = []\n",
        "test_output_sentences = []\n",
        "\n",
        "for line in open(r'test.en', encoding=\"utf-8\"):\n",
        "\n",
        "    test_input_sentence = line.rstrip().strip(\"\\n\").strip('-')\n",
        "    test_input_sentences.append(test_input_sentence)\n",
        "\n",
        "\n",
        "for line in open(r'test.hi'):\n",
        "    test_output_sentence =  line.rstrip().strip(\"\\n\").strip('-')\n",
        "    line = indic_tokenize.trivial_tokenize(test_output_sentence)\n",
        "\n",
        "    test_output_sentences.append(['<sos>'] + line + ['<eos>'])\n",
        "\n",
        "print(type(test_input_sentences[90]))\n",
        "print(len(test_output_sentences))\n",
        "print(test_input_sentences[90])\n",
        "print(test_output_sentences[90])"
      ],
      "execution_count": null,
      "outputs": []
    },
    {
      "cell_type": "code",
      "metadata": {
        "id": "sbaONTQ_cah7",
        "colab": {
          "base_uri": "https://localhost:8080/"
        },
        "outputId": "eda5a310-feac-40c2-aaf6-37d7877006f8"
      },
      "source": [
        "from nltk.translate.bleu_score import corpus_bleu\n",
        "from nltk.translate.bleu_score import SmoothingFunction\n",
        "chencherry = SmoothingFunction()\n",
        "evaluate_n_sentences = 10\n",
        "\n",
        "references = []\n",
        "candidates = []\n",
        "for i in range(evaluate_n_sentences):\n",
        "  try:\n",
        "    res = translate(test_input_sentences[i])\n",
        "    ref = test_output_sentences[i].copy()\n",
        "    ref = [e for e in ref if e not in ('<eos>', '<sos>', '.')]\n",
        "    references.append(ref)\n",
        "    listToStr = ' '.join(map(str, test_output_sentences[i]))\n",
        "    print('Reference Translation: %s' % (listToStr))\n",
        "    candidate = indic_tokenize.trivial_tokenize(res)\n",
        "    candidate = [e for e in candidate if e not in ('<', 'eos','>', '.')]\n",
        "    candidates.append(candidate)\n",
        "  except:\n",
        "    print('Sentence :', i+1, ' not translatable ..moving to next' )\n",
        "score1 = corpus_bleu(references, candidates, smoothing_function=chencherry.method4)\n",
        "score2 = corpus_bleu(references, candidates)\n",
        "print('BLEU score on test data without smoothing function: ' ,score2)\n",
        "print('BLEU score on test data with smoothing function: ' ,score1)"
      ],
      "execution_count": 55,
      "outputs": [
        {
          "output_type": "stream",
          "name": "stdout",
          "text": [
            "Sentence : 1  not translatable ..moving to next\n",
            "Input: <sos> storm will be the closest man to him . <eos>\n",
            "Predicted translation: पतझड़ बोटीयाँ meleager सभीदर्दतक कैंप कठोर ज़बरन munny उन्होनें टायर्सचिल्लाहट हैंगर पपीज़ समझाओ वारदात 9,8,7,6 ताहा रीटा टेलर नाकाबंदी कांड लुइविल श्वास रोओ रखोगे अवरोध आकाशीय नाविकों anchorman उबकाई बांस पंद्रह खंगाला खंगाला उन्मादी उन्मादी व्यावसायिक pilot बदलोगे birds राजस्व पूछती नीला चुस्त लटक लटक मामलों फौज oho प्रीमियर पद्धति रखकर भत्ता ticket क्रॉकरी priorsकीएकलंबीसूचीके धड़कन बेले ज़्यादा सईद अवशोषित रेडियो परेशानी पोर्टा चूहे कोने sebiènija आयोगों गाड़ने बोलिंग \n",
            "Reference Translation: <sos> तूफान उसे निकटतम आदमी हो जाएगा . <eos>\n",
            "Input: <sos> well , ilse , now you have to eat something , too . <eos>\n",
            "Predicted translation: पतझड़ बोटीयाँ meleager सभीदर्दतक कैंप कठोर ज़बरन munny उन्होनें टायर्सचिल्लाहट हैंगर पपीज़ समझाओ वारदात 9,8,7,6 ताहा रीटा टेलर नाकाबंदी कांड लुइविल श्वास रोओ रखोगे अवरोध आकाशीय नाविकों anchorman उबकाई बांस पंद्रह खंगाला खंगाला उन्मादी उन्मादी व्यावसायिक pilot बदलोगे birds राजस्व पूछती नीला चुस्त लटक लटक मामलों फौज oho प्रीमियर पद्धति रखकर भत्ता ticket क्रॉकरी priorsकीएकलंबीसूचीके धड़कन बेले ज़्यादा सईद अवशोषित रेडियो परेशानी पोर्टा चूहे कोने sebiènija आयोगों गाड़ने बोलिंग \n",
            "Reference Translation: <sos> खैर , इल्से , अब तुम्हें भी कुछ खाना है . <eos>\n",
            "Sentence : 4  not translatable ..moving to next\n",
            "Input: <sos> your smile is saying it loudly , my dear . . . <eos>\n",
            "Predicted translation: पतझड़ बोटीयाँ meleager सभीदर्दतक कैंप कठोर ज़बरन munny उन्होनें टायर्सचिल्लाहट हैंगर पपीज़ समझाओ वारदात 9,8,7,6 ताहा रीटा टेलर नाकाबंदी कांड लुइविल श्वास रोओ रखोगे अवरोध आकाशीय नाविकों anchorman उबकाई बांस पंद्रह खंगाला खंगाला उन्मादी उन्मादी व्यावसायिक pilot बदलोगे birds राजस्व पूछती नीला चुस्त लटक लटक मामलों फौज oho प्रीमियर पद्धति रखकर भत्ता ticket क्रॉकरी priorsकीएकलंबीसूचीके धड़कन बेले ज़्यादा सईद अवशोषित रेडियो परेशानी पोर्टा चूहे कोने sebiènija आयोगों गाड़ने बोलिंग \n",
            "Reference Translation: <sos> Your smile is saying it loudly , my dear . . . <eos>\n",
            "Input: <sos> hey , remember my games of hangman ? <eos>\n",
            "Predicted translation: पतझड़ बोटीयाँ meleager सभीदर्दतक कैंप कठोर ज़बरन munny उन्होनें टायर्सचिल्लाहट हैंगर पपीज़ समझाओ वारदात 9,8,7,6 ताहा रीटा टेलर नाकाबंदी कांड लुइविल श्वास रोओ रखोगे अवरोध आकाशीय नाविकों anchorman उबकाई बांस पंद्रह खंगाला खंगाला उन्मादी उन्मादी व्यावसायिक pilot बदलोगे birds राजस्व पूछती नीला चुस्त लटक लटक मामलों फौज oho प्रीमियर पद्धति रखकर भत्ता ticket क्रॉकरी priorsकीएकलंबीसूचीके धड़कन बेले ज़्यादा सईद अवशोषित रेडियो परेशानी पोर्टा चूहे कोने sebiènija आयोगों गाड़ने बोलिंग \n",
            "Reference Translation: <sos> अरे , जल्लाद का मेरे खेल याद है ? <eos>\n",
            "Input: <sos> no , i just work here in sales . <eos>\n",
            "Predicted translation: पतझड़ बोटीयाँ meleager सभीदर्दतक कैंप कठोर ज़बरन munny उन्होनें टायर्सचिल्लाहट हैंगर पपीज़ समझाओ वारदात 9,8,7,6 ताहा रीटा टेलर नाकाबंदी कांड लुइविल श्वास रोओ रखोगे अवरोध आकाशीय नाविकों anchorman उबकाई बांस पंद्रह खंगाला खंगाला उन्मादी उन्मादी व्यावसायिक pilot बदलोगे birds राजस्व पूछती नीला चुस्त लटक लटक मामलों फौज oho प्रीमियर पद्धति रखकर भत्ता ticket क्रॉकरी priorsकीएकलंबीसूचीके धड़कन बेले ज़्यादा सईद अवशोषित रेडियो परेशानी पोर्टा चूहे कोने sebiènija आयोगों गाड़ने बोलिंग \n",
            "Reference Translation: <sos> नहीं , मैं बिक्री में काम करता हूँ । <eos>\n",
            "Input: <sos> just trying to make it easier on you . <eos>\n",
            "Predicted translation: पतझड़ बोटीयाँ meleager सभीदर्दतक कैंप कठोर ज़बरन munny उन्होनें टायर्सचिल्लाहट हैंगर पपीज़ समझाओ वारदात 9,8,7,6 ताहा रीटा टेलर नाकाबंदी कांड लुइविल श्वास रोओ रखोगे अवरोध आकाशीय नाविकों anchorman उबकाई बांस पंद्रह खंगाला खंगाला उन्मादी उन्मादी व्यावसायिक pilot बदलोगे birds राजस्व पूछती नीला चुस्त लटक लटक मामलों फौज oho प्रीमियर पद्धति रखकर भत्ता ticket क्रॉकरी priorsकीएकलंबीसूचीके धड़कन बेले ज़्यादा सईद अवशोषित रेडियो परेशानी पोर्टा चूहे कोने sebiènija आयोगों गाड़ने बोलिंग \n",
            "Reference Translation: <sos> सिर्फ तुम पर आसान बनाने के लिए कोशिश . <eos>\n",
            "Input: <sos> do you know what that is , kids ? <eos>\n",
            "Predicted translation: पतझड़ बोटीयाँ meleager सभीदर्दतक कैंप कठोर ज़बरन munny उन्होनें टायर्सचिल्लाहट हैंगर पपीज़ समझाओ वारदात 9,8,7,6 ताहा रीटा टेलर नाकाबंदी कांड लुइविल श्वास रोओ रखोगे अवरोध आकाशीय नाविकों anchorman उबकाई बांस पंद्रह खंगाला खंगाला उन्मादी उन्मादी व्यावसायिक pilot बदलोगे birds राजस्व पूछती नीला चुस्त लटक लटक मामलों फौज oho प्रीमियर पद्धति रखकर भत्ता ticket क्रॉकरी priorsकीएकलंबीसूचीके धड़कन बेले ज़्यादा सईद अवशोषित रेडियो परेशानी पोर्टा चूहे कोने sebiènija आयोगों गाड़ने बोलिंग \n",
            "Reference Translation: <sos> तुम्हें पता है वह क्या है , बच्चों ? <eos>\n",
            "Input: <sos> i take it that you re interested in . <eos>\n",
            "Predicted translation: पतझड़ बोटीयाँ meleager सभीदर्दतक कैंप कठोर ज़बरन munny उन्होनें टायर्सचिल्लाहट हैंगर पपीज़ समझाओ वारदात 9,8,7,6 ताहा रीटा टेलर नाकाबंदी कांड लुइविल श्वास रोओ रखोगे अवरोध आकाशीय नाविकों anchorman उबकाई बांस पंद्रह खंगाला खंगाला उन्मादी उन्मादी व्यावसायिक pilot बदलोगे birds राजस्व पूछती नीला चुस्त लटक लटक मामलों फौज oho प्रीमियर पद्धति रखकर भत्ता ticket क्रॉकरी priorsकीएकलंबीसूचीके धड़कन बेले ज़्यादा सईद अवशोषित रेडियो परेशानी पोर्टा चूहे कोने sebiènija आयोगों गाड़ने बोलिंग \n",
            "Reference Translation: <sos> मैं आप में रुचि रखते हैं कि इसे ले जाओ । <eos>\n",
            "BLEU score on test data without smoothing function:  0\n",
            "BLEU score on test data with smoothing function:  0\n"
          ]
        }
      ]
    },
    {
      "cell_type": "markdown",
      "metadata": {
        "id": "y_rAhbB7GlIq"
      },
      "source": [
        "# *References*\n",
        "\n",
        "1. The dataset used is available from [here](http://lotus.kuee.kyoto-u.ac.jp/WAT/indic-multilingual/)\n",
        "\n",
        "2. Refer the tensorflow tutorials available on NMT [here](https://tensorflow.org/tutorials/text/nmt_with_attention) and [here](https://www.tensorflow.org/addons/tutorials/networks_seq2seq_nmt) for examples on which this notebook is modelled.\n",
        "\n",
        "3. Refer reference code and documentation available [here](https://github.com/prashanthi-r/Eng-Hin-Neural-Machine-Translation) which has been adopted\n",
        "\n",
        "4. Indic Library documentation can be found [here](https://github.com/anoopkunchukuttan/indic_nlp_library/blob/master/docs/indicnlp.pdf)\n",
        "\n",
        "\n",
        "\n",
        "\n",
        "\n",
        "\n"
      ]
    }
  ]
}